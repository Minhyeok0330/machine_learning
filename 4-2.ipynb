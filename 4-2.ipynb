{
 "cells": [
  {
   "cell_type": "markdown",
   "id": "a42e9da0-c88a-4982-a537-590b23d48c69",
   "metadata": {},
   "source": [
    "# 확률적 경사 하강법"
   ]
  },
  {
   "cell_type": "markdown",
   "id": "24a83d22-cd60-4779-8912-ebe54758a472",
   "metadata": {},
   "source": [
    "- 랜덤하게 기울기를 따라 내려가는 방법\n",
    "- 조금씩 천천히 내려가서 변곡점을 찾아갑니다."
   ]
  },
  {
   "cell_type": "markdown",
   "id": "031eef38-c80b-42b1-8f09-fcacbe5bc7af",
   "metadata": {},
   "source": [
    "## 손실함수"
   ]
  },
  {
   "cell_type": "markdown",
   "id": "1b317d08-7e4e-412a-acd2-378a6f9ad34e",
   "metadata": {},
   "source": [
    "- 실패율과 같은 개념.\n",
    "- 컴퓨터가 정확도를 판단할 수 있는 기준을 세워주는 것이 손실함수.\n",
    "- 우리의 목표는 손실함수를 떨어뜨리는 것!"
   ]
  },
  {
   "cell_type": "markdown",
   "id": "0a0ff00c-41ba-4751-9a1c-9ad13b379cc0",
   "metadata": {},
   "source": [
    "## 손실함수의 기준"
   ]
  },
  {
   "cell_type": "markdown",
   "id": "96442044-cdd4-4dbd-bda3-d6df16bcc4bb",
   "metadata": {},
   "source": [
    "- 정확도는 될 수 없음. 정확도는 연속적이지 않기 때문.\n",
    "- 미분된 값(점의 기울기가 0)일 때 손실함수가 가장 적다고 판단.\n",
    "- 잘 맞은 결과는 숫자를 낮추고, 안 맞은 건 숫자를 높인다.(이를 위해 앞에 -를 붙인다.)(절댓값이 클 수록 음수는 작아지니까)"
   ]
  },
  {
   "cell_type": "code",
   "execution_count": 2,
   "id": "f1d1d55a-6297-40f6-9972-ebf0052c9f89",
   "metadata": {},
   "outputs": [],
   "source": [
    "import pandas as pd\n",
    "\n",
    "df = pd.read_csv('data/Fish.csv')"
   ]
  },
  {
   "cell_type": "code",
   "execution_count": 3,
   "id": "87ce6012-5e69-4eee-9ca0-a2595e447ec5",
   "metadata": {},
   "outputs": [],
   "source": [
    "fish_input = df[['Weight', 'Length2', 'Length3', 'Height', 'Width']]\n",
    "fish_target = df[['Species']]"
   ]
  },
  {
   "cell_type": "code",
   "execution_count": 4,
   "id": "19c0a465-928c-43fc-9f1b-9f08bc489d1a",
   "metadata": {},
   "outputs": [],
   "source": [
    "from sklearn.model_selection import train_test_split\n",
    "\n",
    "train_input, test_input, train_target, test_target = \\\n",
    "train_test_split(fish_input, fish_target)"
   ]
  },
  {
   "cell_type": "code",
   "execution_count": 5,
   "id": "1d869a78-51d2-426a-9147-87c4aa3b7374",
   "metadata": {},
   "outputs": [],
   "source": [
    "from sklearn.preprocessing import StandardScaler\n",
    "\n",
    "ss = StandardScaler()\n",
    "ss.fit(train_input)\n",
    "train_scaled = ss.transform(train_input)\n",
    "test_scaled = ss.transform(test_input)"
   ]
  },
  {
   "cell_type": "code",
   "execution_count": 133,
   "id": "7aeef2f2-186d-4a51-bb2c-5d19f31b3b2b",
   "metadata": {},
   "outputs": [
    {
     "name": "stdout",
     "output_type": "stream",
     "text": [
      "0.773109243697479\n",
      "0.675\n"
     ]
    },
    {
     "name": "stderr",
     "output_type": "stream",
     "text": [
      "C:\\Users\\1-20\\Desktop\\DAMF2\\ml\\venv\\Lib\\site-packages\\sklearn\\utils\\validation.py:1408: DataConversionWarning: A column-vector y was passed when a 1d array was expected. Please change the shape of y to (n_samples, ), for example using ravel().\n",
      "  y = column_or_1d(y, warn=True)\n"
     ]
    }
   ],
   "source": [
    "from sklearn.linear_model import SGDClassifier\n",
    "\n",
    "sc = SGDClassifier(loss='hinge', max_iter=100)\n",
    "sc.fit(train_scaled, train_target)\n",
    "\n",
    "print(sc.score(train_scaled, train_target))\n",
    "print(sc.score(test_scaled, test_target))"
   ]
  },
  {
   "cell_type": "code",
   "execution_count": 127,
   "id": "d4dafc31-c1b2-4e64-af15-c2269ac45e1f",
   "metadata": {},
   "outputs": [
    {
     "name": "stdout",
     "output_type": "stream",
     "text": [
      "0.9327731092436975\n",
      "0.825\n"
     ]
    },
    {
     "name": "stderr",
     "output_type": "stream",
     "text": [
      "C:\\Users\\1-20\\Desktop\\DAMF2\\ml\\venv\\Lib\\site-packages\\sklearn\\utils\\validation.py:1408: DataConversionWarning: A column-vector y was passed when a 1d array was expected. Please change the shape of y to (n_samples, ), for example using ravel().\n",
      "  y = column_or_1d(y, warn=True)\n"
     ]
    }
   ],
   "source": [
    "sc.partial_fit(train_scaled, train_target)\n",
    "print(sc.score(train_scaled, train_target))\n",
    "print(sc.score(test_scaled, test_target))"
   ]
  },
  {
   "cell_type": "code",
   "execution_count": null,
   "id": "275a977b-e05d-45f1-bbc8-13d7c2ca1356",
   "metadata": {},
   "outputs": [],
   "source": []
  }
 ],
 "metadata": {
  "kernelspec": {
   "display_name": "Python 3 (ipykernel)",
   "language": "python",
   "name": "python3"
  },
  "language_info": {
   "codemirror_mode": {
    "name": "ipython",
    "version": 3
   },
   "file_extension": ".py",
   "mimetype": "text/x-python",
   "name": "python",
   "nbconvert_exporter": "python",
   "pygments_lexer": "ipython3",
   "version": "3.13.2"
  }
 },
 "nbformat": 4,
 "nbformat_minor": 5
}
