{
 "cells": [
  {
   "cell_type": "markdown",
   "id": "00a90358-49d0-48f5-9b0f-b4d4ad53d08f",
   "metadata": {},
   "source": [
    "# Random Forest"
   ]
  },
  {
   "cell_type": "code",
   "execution_count": 2,
   "id": "60c45e5a-681b-46c0-bbe6-aae8c07b8ac2",
   "metadata": {},
   "outputs": [],
   "source": [
    "import pandas as pd\n",
    "\n",
    "df = pd.read_csv('http://bit.ly/wine_csv_data')\n",
    "\n",
    "data = df[['alcohol', 'sugar', 'pH']]\n",
    "target = df[['class']]"
   ]
  },
  {
   "cell_type": "code",
   "execution_count": 3,
   "id": "09f919e5-60f1-41db-96d3-01b3fa0d3884",
   "metadata": {},
   "outputs": [],
   "source": [
    "from sklearn.model_selection import train_test_split\n",
    "\n",
    "train_input, test_input, train_target, test_target =\\\n",
    "train_test_split(data, target)"
   ]
  },
  {
   "cell_type": "code",
   "execution_count": 5,
   "id": "4bce19bc-be94-4d0e-b47e-80f529eda1d3",
   "metadata": {},
   "outputs": [
    {
     "name": "stderr",
     "output_type": "stream",
     "text": [
      "C:\\Users\\1-20\\Desktop\\DAMF2\\ml\\venv\\Lib\\site-packages\\sklearn\\base.py:1389: DataConversionWarning: A column-vector y was passed when a 1d array was expected. Please change the shape of y to (n_samples,), for example using ravel().\n",
      "  return fit_method(estimator, *args, **kwargs)\n",
      "C:\\Users\\1-20\\Desktop\\DAMF2\\ml\\venv\\Lib\\site-packages\\sklearn\\base.py:1389: DataConversionWarning: A column-vector y was passed when a 1d array was expected. Please change the shape of y to (n_samples,), for example using ravel().\n",
      "  return fit_method(estimator, *args, **kwargs)\n",
      "C:\\Users\\1-20\\Desktop\\DAMF2\\ml\\venv\\Lib\\site-packages\\sklearn\\base.py:1389: DataConversionWarning: A column-vector y was passed when a 1d array was expected. Please change the shape of y to (n_samples,), for example using ravel().\n",
      "  return fit_method(estimator, *args, **kwargs)\n",
      "C:\\Users\\1-20\\Desktop\\DAMF2\\ml\\venv\\Lib\\site-packages\\sklearn\\base.py:1389: DataConversionWarning: A column-vector y was passed when a 1d array was expected. Please change the shape of y to (n_samples,), for example using ravel().\n",
      "  return fit_method(estimator, *args, **kwargs)\n",
      "C:\\Users\\1-20\\Desktop\\DAMF2\\ml\\venv\\Lib\\site-packages\\sklearn\\base.py:1389: DataConversionWarning: A column-vector y was passed when a 1d array was expected. Please change the shape of y to (n_samples,), for example using ravel().\n",
      "  return fit_method(estimator, *args, **kwargs)\n"
     ]
    }
   ],
   "source": [
    "from sklearn.model_selection import cross_validate\n",
    "from sklearn.ensemble import RandomForestClassifier #모듈 불러오기\n",
    "\n",
    "rf = RandomForestClassifier(n_jobs=-1)\n",
    "scores = cross_validate(\n",
    "    rf, \n",
    "    train_input, \n",
    "    train_target, \n",
    "    return_train_score=True, \n",
    "    n_jobs=1\n",
    ")"
   ]
  },
  {
   "cell_type": "code",
   "execution_count": 6,
   "id": "c67a4044-aee8-462a-a00f-503e3ab240b5",
   "metadata": {},
   "outputs": [
    {
     "name": "stdout",
     "output_type": "stream",
     "text": [
      "{'fit_time': array([0.19468904, 0.13481236, 0.13363123, 0.13495445, 0.14346623]), 'score_time': array([0.02744675, 0.0282526 , 0.02762389, 0.02706766, 0.02757597]), 'test_score': array([0.87897436, 0.88307692, 0.89425051, 0.90451745, 0.87577002]), 'train_score': array([0.99846035, 0.99871696, 0.99846075, 0.99794767, 0.99923037])}\n"
     ]
    }
   ],
   "source": [
    "print(scores)"
   ]
  },
  {
   "cell_type": "code",
   "execution_count": 7,
   "id": "4699155d-b78d-40ae-85d0-2b92cb4910ce",
   "metadata": {},
   "outputs": [
    {
     "name": "stderr",
     "output_type": "stream",
     "text": [
      "C:\\Users\\1-20\\Desktop\\DAMF2\\ml\\venv\\Lib\\site-packages\\sklearn\\base.py:1389: DataConversionWarning: A column-vector y was passed when a 1d array was expected. Please change the shape of y to (n_samples,), for example using ravel().\n",
      "  return fit_method(estimator, *args, **kwargs)\n"
     ]
    },
    {
     "data": {
      "text/plain": [
       "array([0.22716164, 0.50737464, 0.26546372])"
      ]
     },
     "execution_count": 7,
     "metadata": {},
     "output_type": "execute_result"
    }
   ],
   "source": [
    "rf.fit(train_input, train_target)\n",
    "rf.feature_importances_"
   ]
  },
  {
   "cell_type": "markdown",
   "id": "adacfc60-e25d-4122-8e41-babc80f31f8b",
   "metadata": {},
   "source": [
    "- 과대적합을 줄이고 일반화 할 수 있는 모델(decision tree에 비해 주요 변수의 중요도가 낮아짐.)\n",
    "- 그럼 완벽하게 독립인 변수가 들어오면 그 부분도 처리가 가능한가?"
   ]
  },
  {
   "cell_type": "code",
   "execution_count": 8,
   "id": "981a4ffb-cc7c-45d0-a3ed-29e48c8a2f8b",
   "metadata": {},
   "outputs": [
    {
     "name": "stderr",
     "output_type": "stream",
     "text": [
      "C:\\Users\\1-20\\Desktop\\DAMF2\\ml\\venv\\Lib\\site-packages\\sklearn\\base.py:1389: DataConversionWarning: A column-vector y was passed when a 1d array was expected. Please change the shape of y to (n_samples,), for example using ravel().\n",
      "  return fit_method(estimator, *args, **kwargs)\n"
     ]
    },
    {
     "data": {
      "text/plain": [
       "0.8922413793103449"
      ]
     },
     "execution_count": 8,
     "metadata": {},
     "output_type": "execute_result"
    }
   ],
   "source": [
    "rf = RandomForestClassifier(oob_score=True, n_jobs=1)\n",
    "rf.fit(train_input, train_target)\n",
    "rf.oob_score_ #자체적인 validation score를 보여주는 중입니다,"
   ]
  },
  {
   "cell_type": "markdown",
   "id": "d70c79e8-7bf1-4524-8691-72ede835f746",
   "metadata": {},
   "source": [
    "# Extra Tree"
   ]
  },
  {
   "cell_type": "markdown",
   "id": "bfbb5784-b716-462f-b6e7-64d256bcb14f",
   "metadata": {},
   "source": [
    "- Random Forest랑 비슷한데 부트스트랩 샘플을 사용하지 않음(비복원 추출)\n",
    "- 속도가 무지하게 빠르다는 장점(다만 성능은 살짝 떨어짐)"
   ]
  },
  {
   "cell_type": "code",
   "execution_count": 10,
   "id": "f9acc47a-1128-4b51-9c8d-7ba234e1b9fc",
   "metadata": {},
   "outputs": [
    {
     "ename": "ImportError",
     "evalue": "cannot import name 'ExtraTressClassifier' from 'sklearn.ensemble' (C:\\Users\\1-20\\Desktop\\DAMF2\\ml\\venv\\Lib\\site-packages\\sklearn\\ensemble\\__init__.py)",
     "output_type": "error",
     "traceback": [
      "\u001b[1;31m---------------------------------------------------------------------------\u001b[0m",
      "\u001b[1;31mImportError\u001b[0m                               Traceback (most recent call last)",
      "Cell \u001b[1;32mIn[10], line 1\u001b[0m\n\u001b[1;32m----> 1\u001b[0m \u001b[38;5;28;01mfrom\u001b[39;00m\u001b[38;5;250m \u001b[39m\u001b[38;5;21;01msklearn\u001b[39;00m\u001b[38;5;21;01m.\u001b[39;00m\u001b[38;5;21;01mensemble\u001b[39;00m\u001b[38;5;250m \u001b[39m\u001b[38;5;28;01mimport\u001b[39;00m ExtraTressClassifier\n\u001b[0;32m      2\u001b[0m et \u001b[38;5;241m=\u001b[39m ExtraTreesClassifier(n_jobs\u001b[38;5;241m=\u001b[39m\u001b[38;5;241m-\u001b[39m\u001b[38;5;241m1\u001b[39m)\n\u001b[0;32m      4\u001b[0m scores \u001b[38;5;241m=\u001b[39m cross_validate(\n\u001b[0;32m      5\u001b[0m     et, train_input, train_target,\n\u001b[0;32m      6\u001b[0m     return_train_score\u001b[38;5;241m=\u001b[39m\u001b[38;5;28;01mTrue\u001b[39;00m, n_jobs\u001b[38;5;241m=\u001b[39m\u001b[38;5;241m-\u001b[39m\u001b[38;5;241m1\u001b[39m)\n",
      "\u001b[1;31mImportError\u001b[0m: cannot import name 'ExtraTressClassifier' from 'sklearn.ensemble' (C:\\Users\\1-20\\Desktop\\DAMF2\\ml\\venv\\Lib\\site-packages\\sklearn\\ensemble\\__init__.py)"
     ]
    }
   ],
   "source": [
    "from sklearn.ensemble import ExtraTressClassifier\n",
    "et = ExtraTreesClassifier(n_jobs=-1)\n",
    "\n",
    "scores = cross_validate(\n",
    "    et, train_input, train_target,\n",
    "    return_train_score=True, n_jobs=-1)"
   ]
  },
  {
   "cell_type": "code",
   "execution_count": 11,
   "id": "96b8579d-cca6-411d-b08c-34e8a51e1134",
   "metadata": {},
   "outputs": [
    {
     "name": "stdout",
     "output_type": "stream",
     "text": [
      "{'fit_time': array([0.19468904, 0.13481236, 0.13363123, 0.13495445, 0.14346623]), 'score_time': array([0.02744675, 0.0282526 , 0.02762389, 0.02706766, 0.02757597]), 'test_score': array([0.87897436, 0.88307692, 0.89425051, 0.90451745, 0.87577002]), 'train_score': array([0.99846035, 0.99871696, 0.99846075, 0.99794767, 0.99923037])}\n"
     ]
    }
   ],
   "source": [
    "print(scores)"
   ]
  },
  {
   "cell_type": "markdown",
   "id": "865b0ad7-75a3-4b7c-aa4a-808c90ff133e",
   "metadata": {},
   "source": [
    "# Gradient Boosting"
   ]
  },
  {
   "cell_type": "markdown",
   "id": "0e8fa9b6-2aa3-4d36-8eb9-4da18100d11f",
   "metadata": {},
   "source": [
    "- 얕은 트리를 사용해 트리의 오차를 보완하는 방식\n",
    "- 높은 일반화 성능"
   ]
  },
  {
   "cell_type": "code",
   "execution_count": 14,
   "id": "bbecc8b6-5093-4dc9-aa63-7728c15cd4b0",
   "metadata": {},
   "outputs": [
    {
     "name": "stdout",
     "output_type": "stream",
     "text": [
      "{'fit_time': array([1.66375327, 1.79351282, 1.6792779 , 1.80334902, 1.793015  ]), 'score_time': array([0.0120368 , 0.01461935, 0.00924826, 0.01036787, 0.01179266]), 'test_score': array([0.85948718, 0.86974359, 0.88295688, 0.87268994, 0.87063655]), 'train_score': array([0.926097  , 0.92096484, 0.92072858, 0.92380708, 0.92278091])}\n"
     ]
    }
   ],
   "source": [
    "from sklearn.ensemble import GradientBoostingClassifier\n",
    "gb =  GradientBoostingClassifier(n_estimators=500)\n",
    "\n",
    "scores = cross_validate(\n",
    "    gb, train_input, train_target,\n",
    "    return_train_score=True, n_jobs=-1)\n",
    "\n",
    "print(scores)"
   ]
  },
  {
   "cell_type": "markdown",
   "id": "218d068d-9baf-4c7c-95ff-a9539a3413cf",
   "metadata": {},
   "source": [
    "# Histogram_based Gradient Boosting"
   ]
  },
  {
   "cell_type": "markdown",
   "id": "07962d2a-332f-4118-ac9f-59d0509feee4",
   "metadata": {},
   "source": [
    "- ...예? 개념에 대한 추가 공부를 해야겠습니다."
   ]
  },
  {
   "cell_type": "code",
   "execution_count": 16,
   "id": "93d5b998-87ad-4a19-9e20-ad0a0195e9a6",
   "metadata": {},
   "outputs": [
    {
     "name": "stdout",
     "output_type": "stream",
     "text": [
      "{'fit_time': array([0.20885396, 0.20820975, 0.18100452, 0.18171763, 0.203269  ]), 'score_time': array([0.01430655, 0.01490355, 0.01542997, 0.01756501, 0.01629519]), 'test_score': array([0.87282051, 0.87282051, 0.88501027, 0.88501027, 0.86858316]), 'train_score': array([0.93533487, 0.93225558, 0.92996408, 0.93612109, 0.93509492])}\n"
     ]
    }
   ],
   "source": [
    "from sklearn.ensemble import HistGradientBoostingClassifier\n",
    "\n",
    "hgb = HistGradientBoostingClassifier()\n",
    "scores = cross_validate(\n",
    "    hgb, train_input, train_target,\n",
    "    return_train_score=True, n_jobs=-1)\n",
    "\n",
    "print(scores)"
   ]
  },
  {
   "cell_type": "markdown",
   "id": "aa851bf7-ca37-4120-8694-26b8734f7211",
   "metadata": {},
   "source": [
    "# permutation_importance()"
   ]
  },
  {
   "cell_type": "markdown",
   "id": "b7b60d0f-72d3-47e4-b922-e289ff5106f5",
   "metadata": {},
   "source": [
    "- 중요도가 낮은 특성을 골라내기 위한 작업\n",
    "- 특정 컬럼 내용을 무작위로 섞어내서 다시 학습을 진행, 큰 변화가 없다면 낮은 중요도"
   ]
  },
  {
   "cell_type": "code",
   "execution_count": 18,
   "id": "cd18e7c2-b93f-4d6f-a709-33ae13a377d2",
   "metadata": {},
   "outputs": [
    {
     "name": "stderr",
     "output_type": "stream",
     "text": [
      "C:\\Users\\1-20\\Desktop\\DAMF2\\ml\\venv\\Lib\\site-packages\\sklearn\\utils\\validation.py:1408: DataConversionWarning: A column-vector y was passed when a 1d array was expected. Please change the shape of y to (n_samples, ), for example using ravel().\n",
      "  y = column_or_1d(y, warn=True)\n"
     ]
    },
    {
     "name": "stdout",
     "output_type": "stream",
     "text": [
      "[0.091133   0.24954844 0.08481117]\n"
     ]
    }
   ],
   "source": [
    "from sklearn.inspection import permutation_importance\n",
    "\n",
    "hgb.fit(train_input, train_target)\n",
    "scores = permutation_importance(hgb, train_input, train_target)\n",
    "print(scores.importances_mean)"
   ]
  },
  {
   "cell_type": "code",
   "execution_count": null,
   "id": "26a3d0ef-7b9c-407e-96f1-bd1c223d0c34",
   "metadata": {},
   "outputs": [],
   "source": []
  },
  {
   "cell_type": "code",
   "execution_count": null,
   "id": "9c718acd-b41b-47cf-8aeb-ac6fbe146cf8",
   "metadata": {},
   "outputs": [],
   "source": []
  },
  {
   "cell_type": "code",
   "execution_count": null,
   "id": "62452137-bb04-477a-b1af-4029115465f1",
   "metadata": {},
   "outputs": [],
   "source": []
  }
 ],
 "metadata": {
  "kernelspec": {
   "display_name": "Python 3 (ipykernel)",
   "language": "python",
   "name": "python3"
  },
  "language_info": {
   "codemirror_mode": {
    "name": "ipython",
    "version": 3
   },
   "file_extension": ".py",
   "mimetype": "text/x-python",
   "name": "python",
   "nbconvert_exporter": "python",
   "pygments_lexer": "ipython3",
   "version": "3.13.2"
  }
 },
 "nbformat": 4,
 "nbformat_minor": 5
}
