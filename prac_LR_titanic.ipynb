{
 "cells": [
  {
   "cell_type": "code",
   "execution_count": 45,
   "id": "fbd10673-b449-401e-af45-eae71a190956",
   "metadata": {},
   "outputs": [],
   "source": [
    "import seaborn as sns\n",
    "import pandas as pd #모듈 준비\n",
    "\n",
    "df = sns.load_dataset('titanic')\n",
    "survived_df = df.loc[df['survived'] == 1] #타이타닉 생존자 지정"
   ]
  },
  {
   "cell_type": "code",
   "execution_count": 47,
   "id": "e14313b1-23e4-4726-ba17-a032205a7b10",
   "metadata": {
    "collapsed": true,
    "jupyter": {
     "outputs_hidden": true
    },
    "scrolled": true
   },
   "outputs": [
    {
     "name": "stderr",
     "output_type": "stream",
     "text": [
      "C:\\Users\\1-20\\AppData\\Local\\Temp\\ipykernel_12600\\2622505279.py:4: FutureWarning: Downcasting behavior in `replace` is deprecated and will be removed in a future version. To retain the old behavior, explicitly call `result.infer_objects(copy=False)`. To opt-in to the future behavior, set `pd.set_option('future.no_silent_downcasting', True)`\n",
      "  survived_full['sex'] = survived_full['sex'].replace({'male': 1, 'female': 2})\n",
      "C:\\Users\\1-20\\AppData\\Local\\Temp\\ipykernel_12600\\2622505279.py:4: SettingWithCopyWarning: \n",
      "A value is trying to be set on a copy of a slice from a DataFrame.\n",
      "Try using .loc[row_indexer,col_indexer] = value instead\n",
      "\n",
      "See the caveats in the documentation: https://pandas.pydata.org/pandas-docs/stable/user_guide/indexing.html#returning-a-view-versus-a-copy\n",
      "  survived_full['sex'] = survived_full['sex'].replace({'male': 1, 'female': 2})\n",
      "C:\\Users\\1-20\\AppData\\Local\\Temp\\ipykernel_12600\\2622505279.py:7: SettingWithCopyWarning: \n",
      "A value is trying to be set on a copy of a slice from a DataFrame.\n",
      "Try using .loc[row_indexer,col_indexer] = value instead\n",
      "\n",
      "See the caveats in the documentation: https://pandas.pydata.org/pandas-docs/stable/user_guide/indexing.html#returning-a-view-versus-a-copy\n",
      "  survived_full['age'] = survived_full['age'].fillna(survived_full['age'].mean())\n",
      "C:\\Users\\1-20\\AppData\\Local\\Temp\\ipykernel_12600\\2622505279.py:8: SettingWithCopyWarning: \n",
      "A value is trying to be set on a copy of a slice from a DataFrame.\n",
      "Try using .loc[row_indexer,col_indexer] = value instead\n",
      "\n",
      "See the caveats in the documentation: https://pandas.pydata.org/pandas-docs/stable/user_guide/indexing.html#returning-a-view-versus-a-copy\n",
      "  survived_full['fare'] = survived_full['fare'].fillna(survived_full['fare'].mean())\n",
      "C:\\Users\\1-20\\AppData\\Local\\Temp\\ipykernel_12600\\2622505279.py:12: SettingWithCopyWarning: \n",
      "A value is trying to be set on a copy of a slice from a DataFrame.\n",
      "Try using .loc[row_indexer,col_indexer] = value instead\n",
      "\n",
      "See the caveats in the documentation: https://pandas.pydata.org/pandas-docs/stable/user_guide/indexing.html#returning-a-view-versus-a-copy\n",
      "  survived_full[features] = survived_full[features].fillna(survived_full[features].mode()[0])\n",
      "C:\\Users\\1-20\\AppData\\Local\\Temp\\ipykernel_12600\\2622505279.py:12: SettingWithCopyWarning: \n",
      "A value is trying to be set on a copy of a slice from a DataFrame.\n",
      "Try using .loc[row_indexer,col_indexer] = value instead\n",
      "\n",
      "See the caveats in the documentation: https://pandas.pydata.org/pandas-docs/stable/user_guide/indexing.html#returning-a-view-versus-a-copy\n",
      "  survived_full[features] = survived_full[features].fillna(survived_full[features].mode()[0])\n"
     ]
    }
   ],
   "source": [
    "survived_full = survived_df[['pclass', 'sex', 'fare', 'age', 'alone']]\n",
    "survived_true = survived_df[['survived']]\n",
    "\n",
    "survived_full['sex'] = survived_full['sex'].replace({'male': 1, 'female': 2})\n",
    "# male female string속성을 int로 대치\n",
    "\n",
    "survived_full['age'] = survived_full['age'].fillna(survived_full['age'].mean())\n",
    "survived_full['fare'] = survived_full['fare'].fillna(survived_full['fare'].mean())\n",
    "#age, fare 결측값을 평균값으로 대치\n",
    "\n",
    "for features in ['pclass', 'sex', 'alone']:\n",
    "    survived_full[features] = survived_full[features].fillna(survived_full[features].mode()[0])\n",
    "#나머지는 최빈값으로 대치"
   ]
  },
  {
   "cell_type": "code",
   "execution_count": 48,
   "id": "7613ea77-ee42-4070-9167-0d2149c142c8",
   "metadata": {},
   "outputs": [],
   "source": [
    "from sklearn.model_selection import train_test_split\n",
    "\n",
    "train_input, test_input, train_target, test_target =\\\n",
    "train_test_split(survived_full, survived_true)"
   ]
  },
  {
   "cell_type": "code",
   "execution_count": 49,
   "id": "7290ed4f-c87b-41a9-aef8-1f9f4d7cf182",
   "metadata": {},
   "outputs": [],
   "source": [
    "from sklearn.preprocessing import PolynomialFeatures\n",
    "\n",
    "poly = PolynomialFeatures(include_bias=False)"
   ]
  },
  {
   "cell_type": "code",
   "execution_count": 51,
   "id": "b92f644d-ef92-439e-8084-118292ca494d",
   "metadata": {},
   "outputs": [],
   "source": [
    "poly.fit(train_input)\n",
    "train_poly = poly.transform(train_input)"
   ]
  },
  {
   "cell_type": "code",
   "execution_count": 58,
   "id": "97a1c17e-00ef-45e8-9778-5f8091531854",
   "metadata": {},
   "outputs": [
    {
     "data": {
      "text/plain": [
       "1.0"
      ]
     },
     "execution_count": 58,
     "metadata": {},
     "output_type": "execute_result"
    }
   ],
   "source": [
    "from sklearn.linear_model import LinearRegression\n",
    "\n",
    "lr = LinearRegression()\n",
    "lr.fit(train_poly, train_target)\n",
    "lr.score(train_poly, train_target)\n"
   ]
  },
  {
   "cell_type": "code",
   "execution_count": 55,
   "id": "ff016810-1c84-4ed1-a585-dbac2c577fd0",
   "metadata": {},
   "outputs": [],
   "source": [
    "poly.fit(test_input)\n",
    "test_poly = poly.transform(test_input)"
   ]
  },
  {
   "cell_type": "code",
   "execution_count": 56,
   "id": "6fa1d3c0-898b-46cb-9fed-425d5541def9",
   "metadata": {},
   "outputs": [
    {
     "data": {
      "text/plain": [
       "1.0"
      ]
     },
     "execution_count": 56,
     "metadata": {},
     "output_type": "execute_result"
    }
   ],
   "source": [
    "lr.score(test_poly, test_target)"
   ]
  },
  {
   "cell_type": "markdown",
   "id": "ff90f9a7-39e5-42d6-acc9-eab52fd7461d",
   "metadata": {},
   "source": [
    "# 결과"
   ]
  },
  {
   "cell_type": "markdown",
   "id": "9ecad28f-1767-4ca5-9df9-e78387ae255a",
   "metadata": {},
   "source": [
    "- titanic의 몇가지 요소를 가지고 생존 여부를 맞추는 알고리즘을 의도했음\n",
    "- True False의 결과가 나오는 경우엔 선형 회귀가 적합하지 않음.\n",
    "- 분류모델을 활용했어야 함. 항상 score 값이 1.0으로 귀결\n",
    "- 선형회귀 방식을 활용할 수 있는 다른 수치형 데이터를 확인해보자."
   ]
  },
  {
   "cell_type": "code",
   "execution_count": null,
   "id": "429dab20-103c-42ac-8038-a2da043a501d",
   "metadata": {},
   "outputs": [],
   "source": []
  }
 ],
 "metadata": {
  "kernelspec": {
   "display_name": "Python 3 (ipykernel)",
   "language": "python",
   "name": "python3"
  },
  "language_info": {
   "codemirror_mode": {
    "name": "ipython",
    "version": 3
   },
   "file_extension": ".py",
   "mimetype": "text/x-python",
   "name": "python",
   "nbconvert_exporter": "python",
   "pygments_lexer": "ipython3",
   "version": "3.13.2"
  }
 },
 "nbformat": 4,
 "nbformat_minor": 5
}
