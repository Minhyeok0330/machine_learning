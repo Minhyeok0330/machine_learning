{
 "cells": [
  {
   "cell_type": "code",
   "execution_count": 22,
   "id": "cbe6490b-ec65-459c-90b7-4136f948f515",
   "metadata": {
    "scrolled": true
   },
   "outputs": [
    {
     "name": "stdout",
     "output_type": "stream",
     "text": [
      "Embarked\n",
      "S    644\n",
      "C    168\n",
      "Q     77\n",
      "Name: count, dtype: int64\n"
     ]
    }
   ],
   "source": [
    "import pandas as pd\n",
    "\n",
    "train = pd.read_csv('data/train.csv')\n",
    "test = pd.read_csv('data/test.csv')\n",
    "print(train['Embarked'].value_counts())"
   ]
  },
  {
   "cell_type": "markdown",
   "id": "90761e79-a137-4b34-a6bf-329b354c9a99",
   "metadata": {},
   "source": [
    "1. passenger id와 name은 생존여부와는 너무 무관하니 제외\n",
    "2. Cabin은 결측치가 너무 많기 때문에 활용하기 어려워 보임\n",
    "3. Ticket은 형식이 통일되어 있지 않을 뿐 더러, ticket number가 생존 여부를 갈랐다고 보기 어려움\n",
    "4. Pclass, Sex, Age, SibSp, Parch, Fare, Embarked 를 활용.\n",
    "5. 결측값 대치, str열 대치\n",
    "6. 히스토그램 기반 그레이디언트 부스팅을 활용해 훈련하고 ```permutation_importance()```를 통해 중요도가 낮은 특성 칼럼은 제거"
   ]
  },
  {
   "cell_type": "code",
   "execution_count": 6,
   "id": "988d0a1b-3d82-4c43-8899-bfc23f608d4c",
   "metadata": {},
   "outputs": [],
   "source": [
    "train_input = train[['Pclass', 'Sex', 'Age', 'SibSp', 'Parch', 'Fare', 'Embarked']]\n",
    "train_target = train['Survived']"
   ]
  },
  {
   "cell_type": "code",
   "execution_count": 23,
   "id": "85b6c825-0c77-415f-bdd1-4e50db14d14a",
   "metadata": {},
   "outputs": [
    {
     "name": "stderr",
     "output_type": "stream",
     "text": [
      "C:\\Users\\1-20\\AppData\\Local\\Temp\\ipykernel_18044\\2410624915.py:9: FutureWarning: Downcasting behavior in `replace` is deprecated and will be removed in a future version. To retain the old behavior, explicitly call `result.infer_objects(copy=False)`. To opt-in to the future behavior, set `pd.set_option('future.no_silent_downcasting', True)`\n",
      "  train_input['Embarked'] = train_input['Embarked'].replace({'S': 0, 'C': 1, 'Q': 2})\n",
      "C:\\Users\\1-20\\AppData\\Local\\Temp\\ipykernel_18044\\2410624915.py:10: FutureWarning: Downcasting behavior in `replace` is deprecated and will be removed in a future version. To retain the old behavior, explicitly call `result.infer_objects(copy=False)`. To opt-in to the future behavior, set `pd.set_option('future.no_silent_downcasting', True)`\n",
      "  test['Embarked'] = test['Embarked'].replace({'S': 0, 'C': 1, 'Q': 2})\n",
      "C:\\Users\\1-20\\AppData\\Local\\Temp\\ipykernel_18044\\2410624915.py:13: FutureWarning: Downcasting behavior in `replace` is deprecated and will be removed in a future version. To retain the old behavior, explicitly call `result.infer_objects(copy=False)`. To opt-in to the future behavior, set `pd.set_option('future.no_silent_downcasting', True)`\n",
      "  test['Sex'] = test['Sex'].replace({'male': 1, 'female': 2})\n"
     ]
    }
   ],
   "source": [
    "train_input['Age'] = train_input['Age'].fillna(train_input['Age'].mean())               \n",
    "train_input['Embarked'] = train_input['Embarked'].fillna(train_input['Embarked'].mode())\n",
    "#train_input의 결측값 대치\n",
    "\n",
    "test['Age'] = test['Age'].fillna(test['Age'].mean())\n",
    "test['Fare'] = test['Fare'].fillna(test['Fare'].mean())\n",
    "#test의 결측값 대치\n",
    "\n",
    "train_input['Embarked'] = train_input['Embarked'].replace({'S': 0, 'C': 1, 'Q': 2})\n",
    "test['Embarked'] = test['Embarked'].replace({'S': 0, 'C': 1, 'Q': 2})\n",
    "\n",
    "train_input['Sex'] = train_input['Sex'].replace({'male': 1, 'female': 2})\n",
    "test['Sex'] = test['Sex'].replace({'male': 1, 'female': 2})\n",
    "#성별 str을 numeric으로 대치"
   ]
  },
  {
   "cell_type": "code",
   "execution_count": 24,
   "id": "351335b5-a79d-4759-8013-0508c69bbd22",
   "metadata": {},
   "outputs": [],
   "source": [
    "from sklearn.model_selection import train_test_split\n",
    "train_input, val_input, train_target, val_target = \\\n",
    "train_test_split(train_input, train_target)\n",
    "#검증세트 분할"
   ]
  },
  {
   "cell_type": "code",
   "execution_count": 25,
   "id": "672ef360-42fd-4fa1-b703-8ab555ddf83f",
   "metadata": {
    "scrolled": true
   },
   "outputs": [
    {
     "name": "stdout",
     "output_type": "stream",
     "text": [
      "{'fit_time': array([0.07998705, 0.04930139, 0.10833645, 0.0854423 , 0.09412909]), 'score_time': array([0.00656557, 0.00270629, 0.00302696, 0.00400281, 0.00363541]), 'test_score': array([0.76      , 0.76      , 0.77333333, 0.76      , 0.84      ]), 'train_score': array([0.92333333, 0.95      , 0.94666667, 0.92666667, 0.93      ])}\n"
     ]
    }
   ],
   "source": [
    "from sklearn.ensemble import HistGradientBoostingClassifier\n",
    "from sklearn.model_selection import cross_validate\n",
    "\n",
    "hgb = HistGradientBoostingClassifier()\n",
    "scores = cross_validate(\n",
    "    hgb, train_input, train_target,\n",
    "    return_train_score=True, n_jobs=-1)\n",
    "\n",
    "print(scores)"
   ]
  },
  {
   "cell_type": "markdown",
   "id": "632cece6-bd2d-4ac7-a48a-16c750250d91",
   "metadata": {},
   "source": [
    "-여기까지 과대적합된 결과가 나왔으므로 중요도 체크 해서 특성 몇 개 날리고 그리드 서치로 파라미터 조정 들어가자"
   ]
  },
  {
   "cell_type": "code",
   "execution_count": null,
   "id": "f3638b5b-c8d1-462e-a67e-f6f396302f93",
   "metadata": {},
   "outputs": [],
   "source": []
  }
 ],
 "metadata": {
  "kernelspec": {
   "display_name": "Python 3 (ipykernel)",
   "language": "python",
   "name": "python3"
  },
  "language_info": {
   "codemirror_mode": {
    "name": "ipython",
    "version": 3
   },
   "file_extension": ".py",
   "mimetype": "text/x-python",
   "name": "python",
   "nbconvert_exporter": "python",
   "pygments_lexer": "ipython3",
   "version": "3.13.2"
  }
 },
 "nbformat": 4,
 "nbformat_minor": 5
}
