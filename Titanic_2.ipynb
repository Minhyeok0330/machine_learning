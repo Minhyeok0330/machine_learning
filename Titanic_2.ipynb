{
 "cells": [
  {
   "cell_type": "code",
   "execution_count": 3,
   "id": "df690b31-441d-43ee-98af-ba007117f641",
   "metadata": {},
   "outputs": [
    {
     "data": {
      "text/html": [
       "<div>\n",
       "<style scoped>\n",
       "    .dataframe tbody tr th:only-of-type {\n",
       "        vertical-align: middle;\n",
       "    }\n",
       "\n",
       "    .dataframe tbody tr th {\n",
       "        vertical-align: top;\n",
       "    }\n",
       "\n",
       "    .dataframe thead th {\n",
       "        text-align: right;\n",
       "    }\n",
       "</style>\n",
       "<table border=\"1\" class=\"dataframe\">\n",
       "  <thead>\n",
       "    <tr style=\"text-align: right;\">\n",
       "      <th></th>\n",
       "      <th>PassengerId</th>\n",
       "      <th>Survived</th>\n",
       "      <th>Pclass</th>\n",
       "      <th>Name</th>\n",
       "      <th>Sex</th>\n",
       "      <th>Age</th>\n",
       "      <th>SibSp</th>\n",
       "      <th>Parch</th>\n",
       "      <th>Ticket</th>\n",
       "      <th>Fare</th>\n",
       "      <th>Cabin</th>\n",
       "      <th>Embarked</th>\n",
       "    </tr>\n",
       "  </thead>\n",
       "  <tbody>\n",
       "    <tr>\n",
       "      <th>0</th>\n",
       "      <td>1</td>\n",
       "      <td>0</td>\n",
       "      <td>3</td>\n",
       "      <td>Braund, Mr. Owen Harris</td>\n",
       "      <td>male</td>\n",
       "      <td>22.0</td>\n",
       "      <td>1</td>\n",
       "      <td>0</td>\n",
       "      <td>A/5 21171</td>\n",
       "      <td>7.2500</td>\n",
       "      <td>NaN</td>\n",
       "      <td>S</td>\n",
       "    </tr>\n",
       "    <tr>\n",
       "      <th>1</th>\n",
       "      <td>2</td>\n",
       "      <td>1</td>\n",
       "      <td>1</td>\n",
       "      <td>Cumings, Mrs. John Bradley (Florence Briggs Th...</td>\n",
       "      <td>female</td>\n",
       "      <td>38.0</td>\n",
       "      <td>1</td>\n",
       "      <td>0</td>\n",
       "      <td>PC 17599</td>\n",
       "      <td>71.2833</td>\n",
       "      <td>C85</td>\n",
       "      <td>C</td>\n",
       "    </tr>\n",
       "    <tr>\n",
       "      <th>2</th>\n",
       "      <td>3</td>\n",
       "      <td>1</td>\n",
       "      <td>3</td>\n",
       "      <td>Heikkinen, Miss. Laina</td>\n",
       "      <td>female</td>\n",
       "      <td>26.0</td>\n",
       "      <td>0</td>\n",
       "      <td>0</td>\n",
       "      <td>STON/O2. 3101282</td>\n",
       "      <td>7.9250</td>\n",
       "      <td>NaN</td>\n",
       "      <td>S</td>\n",
       "    </tr>\n",
       "    <tr>\n",
       "      <th>3</th>\n",
       "      <td>4</td>\n",
       "      <td>1</td>\n",
       "      <td>1</td>\n",
       "      <td>Futrelle, Mrs. Jacques Heath (Lily May Peel)</td>\n",
       "      <td>female</td>\n",
       "      <td>35.0</td>\n",
       "      <td>1</td>\n",
       "      <td>0</td>\n",
       "      <td>113803</td>\n",
       "      <td>53.1000</td>\n",
       "      <td>C123</td>\n",
       "      <td>S</td>\n",
       "    </tr>\n",
       "    <tr>\n",
       "      <th>4</th>\n",
       "      <td>5</td>\n",
       "      <td>0</td>\n",
       "      <td>3</td>\n",
       "      <td>Allen, Mr. William Henry</td>\n",
       "      <td>male</td>\n",
       "      <td>35.0</td>\n",
       "      <td>0</td>\n",
       "      <td>0</td>\n",
       "      <td>373450</td>\n",
       "      <td>8.0500</td>\n",
       "      <td>NaN</td>\n",
       "      <td>S</td>\n",
       "    </tr>\n",
       "  </tbody>\n",
       "</table>\n",
       "</div>"
      ],
      "text/plain": [
       "   PassengerId  Survived  Pclass  \\\n",
       "0            1         0       3   \n",
       "1            2         1       1   \n",
       "2            3         1       3   \n",
       "3            4         1       1   \n",
       "4            5         0       3   \n",
       "\n",
       "                                                Name     Sex   Age  SibSp  \\\n",
       "0                            Braund, Mr. Owen Harris    male  22.0      1   \n",
       "1  Cumings, Mrs. John Bradley (Florence Briggs Th...  female  38.0      1   \n",
       "2                             Heikkinen, Miss. Laina  female  26.0      0   \n",
       "3       Futrelle, Mrs. Jacques Heath (Lily May Peel)  female  35.0      1   \n",
       "4                           Allen, Mr. William Henry    male  35.0      0   \n",
       "\n",
       "   Parch            Ticket     Fare Cabin Embarked  \n",
       "0      0         A/5 21171   7.2500   NaN        S  \n",
       "1      0          PC 17599  71.2833   C85        C  \n",
       "2      0  STON/O2. 3101282   7.9250   NaN        S  \n",
       "3      0            113803  53.1000  C123        S  \n",
       "4      0            373450   8.0500   NaN        S  "
      ]
     },
     "execution_count": 3,
     "metadata": {},
     "output_type": "execute_result"
    }
   ],
   "source": [
    "import pandas as pd\n",
    "import numpy as np\n",
    "train_data = pd.read_csv('kaggle/data/train.csv')\n",
    "test_data = pd.read_csv('kaggle/data/test.csv')\n",
    "train_data.head()"
   ]
  },
  {
   "cell_type": "code",
   "execution_count": 4,
   "id": "cf4a742e-f035-4122-98b4-f34d12f2539a",
   "metadata": {},
   "outputs": [],
   "source": [
    "passenger_ids = test_data['PassengerId']"
   ]
  },
  {
   "cell_type": "code",
   "execution_count": 5,
   "id": "24a0e825-3afa-48d8-bcf7-73488258737d",
   "metadata": {},
   "outputs": [],
   "source": [
    "train_data['Age'] = train_data.groupby('Pclass')['Age'].transform(lambda x: x.fillna(x.mean()))\n",
    "test_data['Age'] = test_data.groupby('Pclass')['Age'].transform(lambda x: x.fillna(x.mean()))\n",
    "train_data['Fare'] = train_data.groupby('Pclass')['Fare'].transform(lambda x: x.fillna(x.mean()))\n",
    "test_data['Fare'] = test_data.groupby('Pclass')['Fare'].transform(lambda x: x.fillna(x.mean()))"
   ]
  },
  {
   "cell_type": "code",
   "execution_count": 6,
   "id": "90aad28e-3ff5-47fa-8e53-85b2e1c2904f",
   "metadata": {},
   "outputs": [
    {
     "name": "stdout",
     "output_type": "stream",
     "text": [
      "<class 'pandas.core.frame.DataFrame'>\n",
      "RangeIndex: 891 entries, 0 to 890\n",
      "Data columns (total 12 columns):\n",
      " #   Column       Non-Null Count  Dtype  \n",
      "---  ------       --------------  -----  \n",
      " 0   PassengerId  891 non-null    int64  \n",
      " 1   Survived     891 non-null    int64  \n",
      " 2   Pclass       891 non-null    int64  \n",
      " 3   Name         891 non-null    object \n",
      " 4   Sex          891 non-null    object \n",
      " 5   Age          891 non-null    float64\n",
      " 6   SibSp        891 non-null    int64  \n",
      " 7   Parch        891 non-null    int64  \n",
      " 8   Ticket       891 non-null    object \n",
      " 9   Fare         891 non-null    float64\n",
      " 10  Cabin        204 non-null    object \n",
      " 11  Embarked     889 non-null    object \n",
      "dtypes: float64(2), int64(5), object(5)\n",
      "memory usage: 83.7+ KB\n"
     ]
    }
   ],
   "source": [
    "train_data.info()"
   ]
  },
  {
   "cell_type": "code",
   "execution_count": 7,
   "id": "ea793531-6815-44cb-8ca4-beb021262ca3",
   "metadata": {},
   "outputs": [
    {
     "name": "stdout",
     "output_type": "stream",
     "text": [
      "<class 'pandas.core.frame.DataFrame'>\n",
      "RangeIndex: 418 entries, 0 to 417\n",
      "Data columns (total 11 columns):\n",
      " #   Column       Non-Null Count  Dtype  \n",
      "---  ------       --------------  -----  \n",
      " 0   PassengerId  418 non-null    int64  \n",
      " 1   Pclass       418 non-null    int64  \n",
      " 2   Name         418 non-null    object \n",
      " 3   Sex          418 non-null    object \n",
      " 4   Age          418 non-null    float64\n",
      " 5   SibSp        418 non-null    int64  \n",
      " 6   Parch        418 non-null    int64  \n",
      " 7   Ticket       418 non-null    object \n",
      " 8   Fare         418 non-null    float64\n",
      " 9   Cabin        91 non-null     object \n",
      " 10  Embarked     418 non-null    object \n",
      "dtypes: float64(2), int64(4), object(5)\n",
      "memory usage: 36.1+ KB\n"
     ]
    }
   ],
   "source": [
    "test_data.info()"
   ]
  },
  {
   "cell_type": "code",
   "execution_count": 8,
   "id": "7813974b-dbaa-4c2a-8452-b4e5df210128",
   "metadata": {},
   "outputs": [],
   "source": [
    "train_data['CabinBool'] = train_data['Cabin'].notnull().astype(int)\n",
    "\n",
    "\n",
    "train_data['Grade'] = train_data['Cabin'].str[0]  \n",
    "train_data['Grade'] = train_data['Grade'].fillna('Unknown')  \n",
    "\n",
    "from sklearn.preprocessing import LabelEncoder\n",
    "\n",
    "encoder = LabelEncoder()\n",
    "train_data['Grade'] = encoder.fit_transform(train_data['Grade'])"
   ]
  },
  {
   "cell_type": "code",
   "execution_count": 9,
   "id": "33072a84-3bc4-4cc4-85d4-6ace444be123",
   "metadata": {},
   "outputs": [],
   "source": [
    "test_data['CabinBool'] = test_data['Cabin'].notnull().astype(int)\n",
    "\n",
    "\n",
    "test_data['Grade'] = test_data['Cabin'].str[0]  \n",
    "test_data['Grade'] = test_data['Grade'].fillna('Unknown')  \n",
    "\n",
    "from sklearn.preprocessing import LabelEncoder\n",
    "\n",
    "encoder = LabelEncoder()\n",
    "test_data['Grade'] = encoder.fit_transform(test_data['Grade'])"
   ]
  },
  {
   "cell_type": "code",
   "execution_count": 10,
   "id": "8f2cd140-eb7a-417e-af7a-6448856643c2",
   "metadata": {},
   "outputs": [
    {
     "name": "stdout",
     "output_type": "stream",
     "text": [
      "    Age  Age_14_or_under\n",
      "0  22.0                0\n",
      "1  38.0                0\n",
      "2  26.0                0\n",
      "3  35.0                0\n",
      "4  35.0                0\n"
     ]
    }
   ],
   "source": [
    "# 타이타닉 데이터 예시\n",
    "# train_data에 'Age' 컬럼이 있다고 가정\n",
    "\n",
    "# 나이가 14세 이하인 사람을 구별하는 새로운 변수 추가\n",
    "train_data['Age_14_or_under'] = train_data['Age'].apply(lambda x: 1 if x <= 14 else 0)\n",
    "test_data['Age_14_or_under'] = test_data['Age'].apply(lambda x: 1 if x <= 14 else 0)\n",
    "# 결과 확인\n",
    "print(train_data[['Age', 'Age_14_or_under']].head())"
   ]
  },
  {
   "cell_type": "code",
   "execution_count": 11,
   "id": "04508e07-9020-4e9c-8570-08a4ee778cad",
   "metadata": {},
   "outputs": [],
   "source": [
    "# Fare 요금의 90번째 백분위수 계산\n",
    "fare_90th_percentile = train_data['Fare'].quantile(0.9)\n",
    "fare_90th_percentile_2 = test_data['Fare'].quantile(0.9)\n",
    "# Fare가 90번째 백분위수 이상인 사람을 구별하는 새로운 변수 추가\n",
    "train_data['Top_10_Percent_Fare'] = train_data['Fare'].apply(lambda x: 1 if x >= fare_90th_percentile else 0)\n",
    "test_data['Top_10_Percent_Fare'] = test_data['Fare'].apply(lambda x: 1 if x >= fare_90th_percentile_2 else 0)"
   ]
  },
  {
   "cell_type": "code",
   "execution_count": 12,
   "id": "f716074f-ee6e-49e2-9074-9b454366f74e",
   "metadata": {},
   "outputs": [
    {
     "data": {
      "text/plain": [
       "Top_10_Percent_Fare\n",
       "0    801\n",
       "1     90\n",
       "Name: count, dtype: int64"
      ]
     },
     "execution_count": 12,
     "metadata": {},
     "output_type": "execute_result"
    }
   ],
   "source": [
    "train_data['Top_10_Percent_Fare'].value_counts()"
   ]
  },
  {
   "cell_type": "code",
   "execution_count": 13,
   "id": "ed632532-53bd-4aa1-8724-12b81082a061",
   "metadata": {},
   "outputs": [],
   "source": [
    "# # train_data에서 'Age_group'을 더미 변수로 변환\n",
    "# train_data['Age_group'] = pd.cut(train_data['Age'], \n",
    "#                                   bins=[0, 12, 18, 40, 60, 100], \n",
    "#                                   labels=['0-12', '13-18', '19-40', '41-60', '60+'])\n",
    "\n",
    "# # test_data에도 'Age_group'을 더미 변수로 변환\n",
    "# test_data['Age_group'] = pd.cut(test_data['Age'], \n",
    "#                                  bins=[0, 12, 18, 40, 60, 100], \n",
    "#                                  labels=['0-12', '13-18', '19-40', '41-60', '60+'])\n",
    "\n",
    "# X, y 생성\n",
    "features = ['Pclass', 'Sex', 'Top_10_Percent_Fare', 'Age_14_or_under', 'Age', 'Fare', 'Grade', 'CabinBool']\n",
    "\n",
    "\n",
    "x = pd.get_dummies(train_data[features])\n",
    "test_rf= pd.get_dummies(test_data[features])\n",
    "\n",
    "# train_data의 'Survived'를 y로 설정\n",
    "y = train_data['Survived']"
   ]
  },
  {
   "cell_type": "code",
   "execution_count": 141,
   "id": "d71e963b-06c5-4126-91c1-0b6589df855b",
   "metadata": {},
   "outputs": [
    {
     "data": {
      "text/html": [
       "<div>\n",
       "<style scoped>\n",
       "    .dataframe tbody tr th:only-of-type {\n",
       "        vertical-align: middle;\n",
       "    }\n",
       "\n",
       "    .dataframe tbody tr th {\n",
       "        vertical-align: top;\n",
       "    }\n",
       "\n",
       "    .dataframe thead th {\n",
       "        text-align: right;\n",
       "    }\n",
       "</style>\n",
       "<table border=\"1\" class=\"dataframe\">\n",
       "  <thead>\n",
       "    <tr style=\"text-align: right;\">\n",
       "      <th></th>\n",
       "      <th>Pclass</th>\n",
       "      <th>Top_10_Percent_Fare</th>\n",
       "      <th>Age_14_or_under</th>\n",
       "      <th>Age</th>\n",
       "      <th>Fare</th>\n",
       "      <th>Grade</th>\n",
       "      <th>CabinBool</th>\n",
       "      <th>Sex_female</th>\n",
       "      <th>Sex_male</th>\n",
       "    </tr>\n",
       "  </thead>\n",
       "  <tbody>\n",
       "    <tr>\n",
       "      <th>0</th>\n",
       "      <td>3</td>\n",
       "      <td>0</td>\n",
       "      <td>0</td>\n",
       "      <td>22.00000</td>\n",
       "      <td>7.2500</td>\n",
       "      <td>8</td>\n",
       "      <td>0</td>\n",
       "      <td>False</td>\n",
       "      <td>True</td>\n",
       "    </tr>\n",
       "    <tr>\n",
       "      <th>1</th>\n",
       "      <td>1</td>\n",
       "      <td>0</td>\n",
       "      <td>0</td>\n",
       "      <td>38.00000</td>\n",
       "      <td>71.2833</td>\n",
       "      <td>2</td>\n",
       "      <td>1</td>\n",
       "      <td>True</td>\n",
       "      <td>False</td>\n",
       "    </tr>\n",
       "    <tr>\n",
       "      <th>2</th>\n",
       "      <td>3</td>\n",
       "      <td>0</td>\n",
       "      <td>0</td>\n",
       "      <td>26.00000</td>\n",
       "      <td>7.9250</td>\n",
       "      <td>8</td>\n",
       "      <td>0</td>\n",
       "      <td>True</td>\n",
       "      <td>False</td>\n",
       "    </tr>\n",
       "    <tr>\n",
       "      <th>3</th>\n",
       "      <td>1</td>\n",
       "      <td>0</td>\n",
       "      <td>0</td>\n",
       "      <td>35.00000</td>\n",
       "      <td>53.1000</td>\n",
       "      <td>2</td>\n",
       "      <td>1</td>\n",
       "      <td>True</td>\n",
       "      <td>False</td>\n",
       "    </tr>\n",
       "    <tr>\n",
       "      <th>4</th>\n",
       "      <td>3</td>\n",
       "      <td>0</td>\n",
       "      <td>0</td>\n",
       "      <td>35.00000</td>\n",
       "      <td>8.0500</td>\n",
       "      <td>8</td>\n",
       "      <td>0</td>\n",
       "      <td>False</td>\n",
       "      <td>True</td>\n",
       "    </tr>\n",
       "    <tr>\n",
       "      <th>...</th>\n",
       "      <td>...</td>\n",
       "      <td>...</td>\n",
       "      <td>...</td>\n",
       "      <td>...</td>\n",
       "      <td>...</td>\n",
       "      <td>...</td>\n",
       "      <td>...</td>\n",
       "      <td>...</td>\n",
       "      <td>...</td>\n",
       "    </tr>\n",
       "    <tr>\n",
       "      <th>886</th>\n",
       "      <td>2</td>\n",
       "      <td>0</td>\n",
       "      <td>0</td>\n",
       "      <td>27.00000</td>\n",
       "      <td>13.0000</td>\n",
       "      <td>8</td>\n",
       "      <td>0</td>\n",
       "      <td>False</td>\n",
       "      <td>True</td>\n",
       "    </tr>\n",
       "    <tr>\n",
       "      <th>887</th>\n",
       "      <td>1</td>\n",
       "      <td>0</td>\n",
       "      <td>0</td>\n",
       "      <td>19.00000</td>\n",
       "      <td>30.0000</td>\n",
       "      <td>1</td>\n",
       "      <td>1</td>\n",
       "      <td>True</td>\n",
       "      <td>False</td>\n",
       "    </tr>\n",
       "    <tr>\n",
       "      <th>888</th>\n",
       "      <td>3</td>\n",
       "      <td>0</td>\n",
       "      <td>0</td>\n",
       "      <td>25.14062</td>\n",
       "      <td>23.4500</td>\n",
       "      <td>8</td>\n",
       "      <td>0</td>\n",
       "      <td>True</td>\n",
       "      <td>False</td>\n",
       "    </tr>\n",
       "    <tr>\n",
       "      <th>889</th>\n",
       "      <td>1</td>\n",
       "      <td>0</td>\n",
       "      <td>0</td>\n",
       "      <td>26.00000</td>\n",
       "      <td>30.0000</td>\n",
       "      <td>2</td>\n",
       "      <td>1</td>\n",
       "      <td>False</td>\n",
       "      <td>True</td>\n",
       "    </tr>\n",
       "    <tr>\n",
       "      <th>890</th>\n",
       "      <td>3</td>\n",
       "      <td>0</td>\n",
       "      <td>0</td>\n",
       "      <td>32.00000</td>\n",
       "      <td>7.7500</td>\n",
       "      <td>8</td>\n",
       "      <td>0</td>\n",
       "      <td>False</td>\n",
       "      <td>True</td>\n",
       "    </tr>\n",
       "  </tbody>\n",
       "</table>\n",
       "<p>891 rows × 9 columns</p>\n",
       "</div>"
      ],
      "text/plain": [
       "     Pclass  Top_10_Percent_Fare  Age_14_or_under       Age     Fare  Grade  \\\n",
       "0         3                    0                0  22.00000   7.2500      8   \n",
       "1         1                    0                0  38.00000  71.2833      2   \n",
       "2         3                    0                0  26.00000   7.9250      8   \n",
       "3         1                    0                0  35.00000  53.1000      2   \n",
       "4         3                    0                0  35.00000   8.0500      8   \n",
       "..      ...                  ...              ...       ...      ...    ...   \n",
       "886       2                    0                0  27.00000  13.0000      8   \n",
       "887       1                    0                0  19.00000  30.0000      1   \n",
       "888       3                    0                0  25.14062  23.4500      8   \n",
       "889       1                    0                0  26.00000  30.0000      2   \n",
       "890       3                    0                0  32.00000   7.7500      8   \n",
       "\n",
       "     CabinBool  Sex_female  Sex_male  \n",
       "0            0       False      True  \n",
       "1            1        True     False  \n",
       "2            0        True     False  \n",
       "3            1        True     False  \n",
       "4            0       False      True  \n",
       "..         ...         ...       ...  \n",
       "886          0       False      True  \n",
       "887          1        True     False  \n",
       "888          0        True     False  \n",
       "889          1       False      True  \n",
       "890          0       False      True  \n",
       "\n",
       "[891 rows x 9 columns]"
      ]
     },
     "execution_count": 141,
     "metadata": {},
     "output_type": "execute_result"
    }
   ],
   "source": [
    "x"
   ]
  },
  {
   "cell_type": "code",
   "execution_count": 142,
   "id": "540a0bc0-ec4c-47fa-ae9a-bf01c4eb7174",
   "metadata": {},
   "outputs": [
    {
     "name": "stdout",
     "output_type": "stream",
     "text": [
      "<class 'pandas.core.frame.DataFrame'>\n",
      "RangeIndex: 418 entries, 0 to 417\n",
      "Data columns (total 15 columns):\n",
      " #   Column               Non-Null Count  Dtype  \n",
      "---  ------               --------------  -----  \n",
      " 0   PassengerId          418 non-null    int64  \n",
      " 1   Pclass               418 non-null    int64  \n",
      " 2   Name                 418 non-null    object \n",
      " 3   Sex                  418 non-null    object \n",
      " 4   Age                  418 non-null    float64\n",
      " 5   SibSp                418 non-null    int64  \n",
      " 6   Parch                418 non-null    int64  \n",
      " 7   Ticket               418 non-null    object \n",
      " 8   Fare                 418 non-null    float64\n",
      " 9   Cabin                91 non-null     object \n",
      " 10  Embarked             418 non-null    object \n",
      " 11  CabinBool            418 non-null    int64  \n",
      " 12  Grade                418 non-null    int64  \n",
      " 13  Age_14_or_under      418 non-null    int64  \n",
      " 14  Top_10_Percent_Fare  418 non-null    int64  \n",
      "dtypes: float64(2), int64(8), object(5)\n",
      "memory usage: 49.1+ KB\n"
     ]
    }
   ],
   "source": [
    "test_data.info()"
   ]
  },
  {
   "cell_type": "code",
   "execution_count": 143,
   "id": "f2c9a3bc-e504-47ad-94a6-03d716d06440",
   "metadata": {},
   "outputs": [],
   "source": [
    "# # embarked 추가\n",
    "# # Embarked를 더미 변수로 변환\n",
    "# embarked_dummies = pd.get_dummies(train_data['Embarked'], prefix='Embarked')\n",
    "\n",
    "# # 기존 데이터에 더미 변수 추가\n",
    "# x = pd.concat([x, embarked_dummies], axis=1)\n",
    "\n",
    "# embarked_dummies = pd.get_dummies(test_data['Embarked'], prefix='Embarked')\n",
    "\n",
    "# # 기존 데이터에 더미 변수 추가\n",
    "# test_rf = pd.concat([test_rf, embarked_dummies], axis=1)\n"
   ]
  },
  {
   "cell_type": "code",
   "execution_count": 144,
   "id": "34de5ac4-ea8c-424b-934b-ae42addd4976",
   "metadata": {},
   "outputs": [],
   "source": [
    "# import numpy as np\n",
    "# from sklearn.model_selection import cross_validate\n",
    "# from sklearn.ensemble import RandomForestClassifier\n",
    "# from sklearn.model_selection import StratifiedKFold\n",
    "# # 모델 정의\n",
    "# rf = RandomForestClassifier(n_estimators=100, max_depth=10, random_state=1)\n",
    "\n",
    "# # cross-validation 수행\n",
    "# scores = cross_validate(rf, x, y, return_train_score=True, cv=StratifiedKFold())\n",
    "\n",
    "# # train_score와 test_score의 평균을 각각 계산 후 출력\n",
    "# mean_train_score = np.mean(scores['train_score'])\n",
    "# mean_test_score = np.mean(scores['test_score'])\n",
    "\n",
    "# # 두 값을 한 번에 출력\n",
    "# print(f\"Mean Train Score: {mean_train_score}\")\n",
    "# print(f\"Mean Test Score: {mean_test_score}\")"
   ]
  },
  {
   "cell_type": "code",
   "execution_count": 14,
   "id": "427db2a0-55e1-4ef5-91df-8f769084b90f",
   "metadata": {},
   "outputs": [],
   "source": [
    "from sklearn.model_selection import cross_validate"
   ]
  },
  {
   "cell_type": "code",
   "execution_count": 15,
   "id": "c727be36-7e2f-4dd4-b99a-7bc79f9047d1",
   "metadata": {},
   "outputs": [
    {
     "name": "stdout",
     "output_type": "stream",
     "text": [
      "Mean Train Score: 0.9436027546212395\n",
      "Mean Test Score: 0.8260686711443098\n"
     ]
    }
   ],
   "source": [
    "from sklearn.ensemble import RandomForestClassifier\n",
    "rf = RandomForestClassifier(n_estimators=100, max_depth=10, random_state=1)\n",
    "rf.fit(x,y)\n",
    "scores = cross_validate(rf, x, y, return_train_score=True)\n",
    "mean_train_score = np.mean(scores['train_score'])\n",
    "mean_test_score = np.mean(scores['test_score'])\n",
    "print(f\"Mean Train Score: {mean_train_score}\")\n",
    "print(f\"Mean Test Score: {mean_test_score}\")"
   ]
  },
  {
   "cell_type": "code",
   "execution_count": 22,
   "id": "09254bd0-359b-4ab9-a16c-755a22bbc5d1",
   "metadata": {},
   "outputs": [
    {
     "name": "stdout",
     "output_type": "stream",
     "text": [
      "Fitting 5 folds for each of 128 candidates, totalling 640 fits\n",
      "Best Parameters: {'bootstrap': True, 'max_depth': 10, 'max_features': 'log2', 'min_samples_leaf': 2, 'min_samples_split': 5, 'n_estimators': 120, 'random_state': 42}\n",
      "Best Score: 0.83841566756638\n"
     ]
    }
   ],
   "source": [
    "from sklearn.model_selection import GridSearchCV\n",
    "from sklearn.ensemble import RandomForestClassifier\n",
    "\n",
    "param_grid = {\n",
    "    'n_estimators': [120, 130],         # 트리의 개수\n",
    "    'max_depth': [10, 12],             # 트리의 최대 깊이\n",
    "    'min_samples_split': [5, 10],         # 내부 노드를 분할하는 최소 샘플 수\n",
    "    'min_samples_leaf': [2, 3],           # 리프 노드에 필요한 최소 샘플 수\n",
    "    'max_features': ['log2', 'sqrt'], # 고려할 특성의 수\n",
    "    'bootstrap': [True, False],              # 부트스트랩 샘플링 여부\n",
    "    'random_state': [42, 0]               # 랜덤 시드 값\n",
    "}\n",
    "\n",
    "# 그리드 서치 객체 정의\n",
    "grid_search = GridSearchCV(estimator=rf, param_grid=param_grid, cv=5, n_jobs=-1, verbose=2)\n",
    "\n",
    "# 데이터 준비 (X, y)\n",
    "# 예: X_train, y_train으로 데이터를 준비했다고 가정합니다.\n",
    "\n",
    "# 그리드 서치 실행\n",
    "grid_search.fit(x, y)\n",
    "\n",
    "# 최적의 파라미터와 성능 출력\n",
    "print(\"Best Parameters:\", grid_search.best_params_)\n",
    "print(\"Best Score:\", grid_search.best_score_)"
   ]
  },
  {
   "cell_type": "code",
   "execution_count": 28,
   "id": "ecd3c644-201b-4a21-abc4-01b7b55938c6",
   "metadata": {},
   "outputs": [
    {
     "name": "stdout",
     "output_type": "stream",
     "text": [
      "Mean Train Score: 0.9003939675685897\n",
      "Mean Test Score: 0.83841566756638\n"
     ]
    }
   ],
   "source": [
    "rf = RandomForestClassifier(n_estimators=120, max_depth=10, random_state=42, max_features='log2', min_samples_split=5, min_samples_leaf=2)\n",
    "rf.fit(x, y)\n",
    "scores = cross_validate(rf, x, y, return_train_score=True)\n",
    "mean_train_score = np.mean(scores['train_score'])\n",
    "mean_test_score = np.mean(scores['test_score'])\n",
    "print(f\"Mean Train Score: {mean_train_score}\")\n",
    "print(f\"Mean Test Score: {mean_test_score}\")\n",
    "predictions=rf.predict(test_rf)"
   ]
  },
  {
   "cell_type": "code",
   "execution_count": 29,
   "id": "8d0afec4-933a-4a89-af9c-96d2bc262a47",
   "metadata": {},
   "outputs": [
    {
     "data": {
      "text/plain": [
       "array([0, 0, 0, 0, 0, 0, 0, 0, 1, 0, 0, 0, 1, 0, 1, 1, 0, 0, 1, 0, 0, 1,\n",
       "       1, 0, 1, 0, 1, 0, 1, 0, 0, 0, 1, 0, 0, 0, 0, 0, 0, 0, 0, 1, 0, 1,\n",
       "       1, 0, 0, 0, 1, 1, 0, 0, 1, 1, 0, 0, 0, 0, 0, 1, 0, 0, 0, 1, 1, 1,\n",
       "       1, 0, 0, 1, 1, 0, 0, 1, 1, 0, 0, 1, 0, 1, 1, 0, 0, 0, 0, 0, 1, 1,\n",
       "       1, 1, 0, 0, 1, 0, 0, 0, 1, 0, 1, 0, 1, 0, 0, 0, 1, 0, 0, 0, 0, 0,\n",
       "       0, 1, 1, 1, 1, 0, 0, 1, 0, 1, 1, 0, 1, 0, 0, 1, 0, 1, 0, 0, 0, 0,\n",
       "       0, 0, 0, 0, 0, 0, 0, 0, 0, 1, 0, 0, 0, 0, 1, 0, 0, 0, 1, 0, 0, 1,\n",
       "       0, 0, 1, 1, 1, 1, 1, 1, 1, 0, 0, 1, 0, 0, 1, 0, 0, 0, 0, 0, 0, 1,\n",
       "       1, 0, 1, 1, 0, 0, 1, 0, 1, 0, 1, 0, 0, 0, 0, 0, 1, 0, 1, 0, 1, 1,\n",
       "       0, 0, 1, 1, 0, 1, 0, 0, 0, 0, 1, 0, 0, 0, 0, 1, 0, 0, 1, 0, 1, 0,\n",
       "       1, 0, 1, 0, 1, 1, 0, 1, 0, 0, 0, 1, 0, 0, 0, 0, 0, 0, 1, 1, 1, 1,\n",
       "       0, 0, 0, 1, 1, 0, 1, 0, 1, 0, 0, 0, 0, 0, 0, 0, 1, 0, 0, 0, 1, 1,\n",
       "       0, 0, 0, 0, 0, 0, 0, 0, 1, 1, 0, 1, 0, 0, 0, 0, 0, 1, 1, 0, 1, 0,\n",
       "       0, 0, 0, 0, 0, 0, 0, 0, 0, 0, 1, 0, 0, 0, 0, 0, 0, 0, 1, 1, 0, 1,\n",
       "       0, 0, 0, 0, 0, 0, 1, 1, 0, 0, 0, 0, 0, 0, 0, 1, 1, 0, 1, 0, 0, 0,\n",
       "       1, 0, 0, 1, 0, 0, 0, 0, 0, 0, 0, 0, 0, 1, 0, 1, 0, 0, 0, 1, 1, 0,\n",
       "       0, 0, 1, 0, 1, 0, 0, 1, 0, 1, 1, 0, 1, 0, 0, 0, 1, 0, 0, 1, 0, 0,\n",
       "       1, 1, 0, 0, 0, 0, 0, 0, 0, 1, 0, 1, 0, 0, 0, 0, 0, 1, 0, 0, 0, 1,\n",
       "       0, 1, 0, 0, 1, 0, 1, 0, 0, 0, 0, 0, 1, 1, 1, 1, 0, 0, 1, 0, 0, 0])"
      ]
     },
     "execution_count": 29,
     "metadata": {},
     "output_type": "execute_result"
    }
   ],
   "source": [
    "predictions"
   ]
  },
  {
   "cell_type": "code",
   "execution_count": 30,
   "id": "5da3212a-932b-4785-a94d-376dd12f3e05",
   "metadata": {},
   "outputs": [
    {
     "name": "stdout",
     "output_type": "stream",
     "text": [
      "Your submission was successfully saved!\n"
     ]
    }
   ],
   "source": [
    "output = pd.DataFrame({'PassengerId': passenger_ids, 'Survived': predictions})\n",
    "output.to_csv('submission2.csv', index=False)\n",
    "print(\"Your submission was successfully saved!\")"
   ]
  },
  {
   "cell_type": "code",
   "execution_count": null,
   "id": "1bf6fd1a-51d1-4ea0-8a91-8cc852f2130f",
   "metadata": {},
   "outputs": [],
   "source": []
  }
 ],
 "metadata": {
  "kernelspec": {
   "display_name": "Python 3 (ipykernel)",
   "language": "python",
   "name": "python3"
  },
  "language_info": {
   "codemirror_mode": {
    "name": "ipython",
    "version": 3
   },
   "file_extension": ".py",
   "mimetype": "text/x-python",
   "name": "python",
   "nbconvert_exporter": "python",
   "pygments_lexer": "ipython3",
   "version": "3.13.2"
  }
 },
 "nbformat": 4,
 "nbformat_minor": 5
}
