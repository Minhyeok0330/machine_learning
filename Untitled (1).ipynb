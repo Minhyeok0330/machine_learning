{
 "cells": [
  {
   "cell_type": "code",
   "execution_count": 185,
   "id": "596b0ac0-7d49-49b2-898a-bae11dbd12f2",
   "metadata": {},
   "outputs": [],
   "source": [
    "import numpy as np \n",
    "import pandas as pd\n",
    "\n",
    "test =pd.read_csv('kaggle/data/test.csv')\n",
    "train = pd.read_csv('kaggle/data/train.csv')"
   ]
  },
  {
   "cell_type": "code",
   "execution_count": 186,
   "id": "0396bc43-8613-4620-b7bd-5bb637904f9a",
   "metadata": {
    "scrolled": true
   },
   "outputs": [
    {
     "data": {
      "text/plain": [
       "Cabin\n",
       "G6             4\n",
       "C23 C25 C27    4\n",
       "B96 B98        4\n",
       "F2             3\n",
       "D              3\n",
       "              ..\n",
       "E17            1\n",
       "A24            1\n",
       "C50            1\n",
       "B42            1\n",
       "C148           1\n",
       "Name: count, Length: 147, dtype: int64"
      ]
     },
     "execution_count": 186,
     "metadata": {},
     "output_type": "execute_result"
    }
   ],
   "source": [
    "train['Cabin'].value_counts()"
   ]
  },
  {
   "cell_type": "code",
   "execution_count": 187,
   "id": "6626fd0d-bf07-4409-b181-7ae984f3861a",
   "metadata": {},
   "outputs": [],
   "source": [
    "train['CabinBool'] = train['Cabin'].notnull().astype(int)\n",
    "\n",
    "\n",
    "train['Grade'] = train['Cabin'].str[0]  \n",
    "train['Grade'] = train['Grade'].fillna('Unknown')  \n"
   ]
  },
  {
   "cell_type": "code",
   "execution_count": 188,
   "id": "2a40251d-ebab-4b8e-9bd4-9589d4ffde35",
   "metadata": {
    "scrolled": true
   },
   "outputs": [],
   "source": [
    "from sklearn.preprocessing import LabelEncoder\n",
    "\n",
    "encoder = LabelEncoder()\n",
    "train['Grade'] = encoder.fit_transform(train['Grade'])"
   ]
  },
  {
   "cell_type": "code",
   "execution_count": 189,
   "id": "f6353326-c859-4df5-b1a2-de2524fc2e10",
   "metadata": {},
   "outputs": [],
   "source": [
    "train['FamilySize'] = train['SibSp'] + train['Parch'] + 1"
   ]
  },
  {
   "cell_type": "code",
   "execution_count": 190,
   "id": "1f728dc0-b63e-4948-9d45-72dc764363df",
   "metadata": {},
   "outputs": [],
   "source": [
    "def categorize_age(age):\n",
    "    if age < 15:\n",
    "        return 'Child'\n",
    "    elif age < 20:\n",
    "        return 'Teen'\n",
    "    elif age < 44:\n",
    "        return 'Adult'\n",
    "    else:\n",
    "        return 'Senior'\n",
    "\n",
    "train['AgeGroup'] = train['Age'].apply(categorize_age)\n",
    "\n",
    "train = pd.get_dummies(train, columns=['AgeGroup'], prefix='Age')"
   ]
  },
  {
   "cell_type": "code",
   "execution_count": 191,
   "id": "ef032358-c616-44c4-b186-e4764753c98c",
   "metadata": {},
   "outputs": [],
   "source": [
    "train = pd.get_dummies(train, columns=['Sex'])"
   ]
  },
  {
   "cell_type": "code",
   "execution_count": 192,
   "id": "7037dc78-ee22-4b0a-ab9c-8b700dfdf3ca",
   "metadata": {
    "scrolled": true
   },
   "outputs": [
    {
     "data": {
      "text/html": [
       "<div>\n",
       "<style scoped>\n",
       "    .dataframe tbody tr th:only-of-type {\n",
       "        vertical-align: middle;\n",
       "    }\n",
       "\n",
       "    .dataframe tbody tr th {\n",
       "        vertical-align: top;\n",
       "    }\n",
       "\n",
       "    .dataframe thead th {\n",
       "        text-align: right;\n",
       "    }\n",
       "</style>\n",
       "<table border=\"1\" class=\"dataframe\">\n",
       "  <thead>\n",
       "    <tr style=\"text-align: right;\">\n",
       "      <th></th>\n",
       "      <th>PassengerId</th>\n",
       "      <th>Survived</th>\n",
       "      <th>Pclass</th>\n",
       "      <th>Name</th>\n",
       "      <th>Age</th>\n",
       "      <th>SibSp</th>\n",
       "      <th>Parch</th>\n",
       "      <th>Ticket</th>\n",
       "      <th>Fare</th>\n",
       "      <th>Cabin</th>\n",
       "      <th>Embarked</th>\n",
       "      <th>CabinBool</th>\n",
       "      <th>Grade</th>\n",
       "      <th>FamilySize</th>\n",
       "      <th>Age_Adult</th>\n",
       "      <th>Age_Child</th>\n",
       "      <th>Age_Senior</th>\n",
       "      <th>Age_Teen</th>\n",
       "      <th>Sex_female</th>\n",
       "      <th>Sex_male</th>\n",
       "    </tr>\n",
       "  </thead>\n",
       "  <tbody>\n",
       "    <tr>\n",
       "      <th>0</th>\n",
       "      <td>1</td>\n",
       "      <td>0</td>\n",
       "      <td>3</td>\n",
       "      <td>Braund, Mr. Owen Harris</td>\n",
       "      <td>22.0</td>\n",
       "      <td>1</td>\n",
       "      <td>0</td>\n",
       "      <td>A/5 21171</td>\n",
       "      <td>7.25</td>\n",
       "      <td>NaN</td>\n",
       "      <td>S</td>\n",
       "      <td>0</td>\n",
       "      <td>8</td>\n",
       "      <td>2</td>\n",
       "      <td>True</td>\n",
       "      <td>False</td>\n",
       "      <td>False</td>\n",
       "      <td>False</td>\n",
       "      <td>False</td>\n",
       "      <td>True</td>\n",
       "    </tr>\n",
       "  </tbody>\n",
       "</table>\n",
       "</div>"
      ],
      "text/plain": [
       "   PassengerId  Survived  Pclass                     Name   Age  SibSp  Parch  \\\n",
       "0            1         0       3  Braund, Mr. Owen Harris  22.0      1      0   \n",
       "\n",
       "      Ticket  Fare Cabin Embarked  CabinBool  Grade  FamilySize  Age_Adult  \\\n",
       "0  A/5 21171  7.25   NaN        S          0      8           2       True   \n",
       "\n",
       "   Age_Child  Age_Senior  Age_Teen  Sex_female  Sex_male  \n",
       "0      False       False     False       False      True  "
      ]
     },
     "execution_count": 192,
     "metadata": {},
     "output_type": "execute_result"
    }
   ],
   "source": [
    "train.head(1)"
   ]
  },
  {
   "cell_type": "code",
   "execution_count": 193,
   "id": "fddf80a1-58bf-47f0-bcc1-39fa5420d40f",
   "metadata": {},
   "outputs": [],
   "source": [
    "train_input = train[['Pclass', 'Age', 'Fare', 'CabinBool', 'Grade', 'FamilySize', 'Age_Adult', 'Age_Child','Age_Senior', 'Age_Teen','Sex_female', 'Sex_male' ]]"
   ]
  },
  {
   "cell_type": "code",
   "execution_count": 194,
   "id": "546243ca-bbe5-4008-98a0-1b64da7dba8b",
   "metadata": {},
   "outputs": [],
   "source": [
    "train_target = train[['Survived']]"
   ]
  },
  {
   "cell_type": "code",
   "execution_count": 195,
   "id": "77eed1d1-3fb7-4e21-a31c-effb70cbf905",
   "metadata": {},
   "outputs": [
    {
     "name": "stdout",
     "output_type": "stream",
     "text": [
      "<class 'pandas.core.frame.DataFrame'>\n",
      "RangeIndex: 891 entries, 0 to 890\n",
      "Data columns (total 12 columns):\n",
      " #   Column      Non-Null Count  Dtype  \n",
      "---  ------      --------------  -----  \n",
      " 0   Pclass      891 non-null    int64  \n",
      " 1   Age         714 non-null    float64\n",
      " 2   Fare        891 non-null    float64\n",
      " 3   CabinBool   891 non-null    int64  \n",
      " 4   Grade       891 non-null    int64  \n",
      " 5   FamilySize  891 non-null    int64  \n",
      " 6   Age_Adult   891 non-null    bool   \n",
      " 7   Age_Child   891 non-null    bool   \n",
      " 8   Age_Senior  891 non-null    bool   \n",
      " 9   Age_Teen    891 non-null    bool   \n",
      " 10  Sex_female  891 non-null    bool   \n",
      " 11  Sex_male    891 non-null    bool   \n",
      "dtypes: bool(6), float64(2), int64(4)\n",
      "memory usage: 47.1 KB\n"
     ]
    }
   ],
   "source": [
    "train_input.info()"
   ]
  },
  {
   "cell_type": "code",
   "execution_count": 196,
   "id": "e3997fe4-85e6-48aa-8bff-a820bfdbb40f",
   "metadata": {},
   "outputs": [
    {
     "name": "stderr",
     "output_type": "stream",
     "text": [
      "C:\\Users\\1-20\\AppData\\Local\\Temp\\ipykernel_11248\\53076346.py:1: SettingWithCopyWarning: \n",
      "A value is trying to be set on a copy of a slice from a DataFrame.\n",
      "Try using .loc[row_indexer,col_indexer] = value instead\n",
      "\n",
      "See the caveats in the documentation: https://pandas.pydata.org/pandas-docs/stable/user_guide/indexing.html#returning-a-view-versus-a-copy\n",
      "  train_input['Age'] = train_input['Age'].fillna(train_input['Age'].median())\n"
     ]
    }
   ],
   "source": [
    "train_input['Age'] = train_input['Age'].fillna(train_input['Age'].median())   "
   ]
  },
  {
   "cell_type": "code",
   "execution_count": 197,
   "id": "957c5d61-8ac2-49a9-b6b6-3f89f83af980",
   "metadata": {},
   "outputs": [],
   "source": [
    "test['Age'] = test['Age'].fillna(test['Age'].median())\n",
    "test['Fare'] = test['Fare'].fillna(test['Fare'].median())"
   ]
  },
  {
   "cell_type": "code",
   "execution_count": 198,
   "id": "0620bb1b-de18-4e9c-af4e-8cc92063e4e1",
   "metadata": {},
   "outputs": [],
   "source": [
    "test['CabinBool'] = test['Cabin'].notnull().astype(int)\n",
    "\n",
    "\n",
    "test['Grade'] = test['Cabin'].str[0]  \n",
    "test['Grade'] = test['Grade'].fillna('Unknown')  \n",
    "\n",
    "test['Grade'] = encoder.fit_transform(test['Grade'])\n",
    "\n",
    "test['FamilySize'] = test['SibSp'] + test['Parch'] + 1\n",
    "\n",
    "test['AgeGroup'] = test['Age'].apply(categorize_age)\n",
    "\n",
    "test = pd.get_dummies(test, columns=['AgeGroup'], prefix='Age')\n",
    "test = pd.get_dummies(test, columns=['Sex'])\n",
    "\n",
    "test_input = test[['Pclass', 'Age', 'Fare', 'CabinBool', 'Grade', 'FamilySize', 'Age_Adult', 'Age_Child','Age_Senior', 'Age_Teen','Sex_female', 'Sex_male' ]]"
   ]
  },
  {
   "cell_type": "code",
   "execution_count": 199,
   "id": "85b46efa-5daf-4dfc-9f15-2cdc6f5960e6",
   "metadata": {},
   "outputs": [
    {
     "name": "stdout",
     "output_type": "stream",
     "text": [
      "{'fit_time': array([0.7624917 , 0.79298186, 0.78416729, 0.76367283, 0.77904296]), 'score_time': array([0.02685976, 0.02960181, 0.04171467, 0.03612971, 0.04267955]), 'test_score': array([0.7877095 , 0.82022472, 0.81460674, 0.79775281, 0.8258427 ]), 'train_score': array([0.83286517, 0.82187938, 0.82608696, 0.83029453, 0.81626928])}\n"
     ]
    }
   ],
   "source": [
    "from sklearn.ensemble import RandomForestClassifier\n",
    "rf = RandomForestClassifier(n_estimators=500, max_depth=3, random_state=1)\n",
    "scores_rf = cross_validate(\n",
    "    rf, train_input, train_target,\n",
    "    return_train_score=True, n_jobs=-1)\n",
    "print(scores_rf)"
   ]
  },
  {
   "cell_type": "code",
   "execution_count": 200,
   "id": "24e35499-10cc-4bab-b852-5c678c3ff10d",
   "metadata": {},
   "outputs": [
    {
     "name": "stderr",
     "output_type": "stream",
     "text": [
      "C:\\Users\\1-20\\Desktop\\DAMF2\\ml\\venv\\Lib\\site-packages\\sklearn\\base.py:1389: DataConversionWarning: A column-vector y was passed when a 1d array was expected. Please change the shape of y to (n_samples,), for example using ravel().\n",
      "  return fit_method(estimator, *args, **kwargs)\n"
     ]
    },
    {
     "name": "stdout",
     "output_type": "stream",
     "text": [
      "Your submission was successfully saved!\n"
     ]
    }
   ],
   "source": [
    "rf.fit(train_input, train_target)\n",
    "predictions = rf.predict(test_input)\n",
    "\n",
    "\n",
    "output = pd.DataFrame({'PassengerId': test.PassengerId, 'Survived': predictions})\n",
    "output.to_csv('submission.csv', index=False)\n",
    "print(\"Your submission was successfully saved!\")"
   ]
  },
  {
   "cell_type": "code",
   "execution_count": null,
   "id": "14b3880b-e319-4539-b657-4142ceb57600",
   "metadata": {},
   "outputs": [],
   "source": []
  },
  {
   "cell_type": "code",
   "execution_count": null,
   "id": "bb7a9ab1-19cd-4735-87fe-9db279d5b241",
   "metadata": {},
   "outputs": [],
   "source": []
  },
  {
   "cell_type": "code",
   "execution_count": null,
   "id": "39aebce1-83ca-4861-a57b-4eccbc061950",
   "metadata": {},
   "outputs": [],
   "source": []
  },
  {
   "cell_type": "code",
   "execution_count": null,
   "id": "2bd1f5b8-0d1b-4c0c-8f62-f013ca4ff058",
   "metadata": {},
   "outputs": [],
   "source": []
  }
 ],
 "metadata": {
  "kernelspec": {
   "display_name": "Python 3 (ipykernel)",
   "language": "python",
   "name": "python3"
  },
  "language_info": {
   "codemirror_mode": {
    "name": "ipython",
    "version": 3
   },
   "file_extension": ".py",
   "mimetype": "text/x-python",
   "name": "python",
   "nbconvert_exporter": "python",
   "pygments_lexer": "ipython3",
   "version": "3.13.2"
  }
 },
 "nbformat": 4,
 "nbformat_minor": 5
}
